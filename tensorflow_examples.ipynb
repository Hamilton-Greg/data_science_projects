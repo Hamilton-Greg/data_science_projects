{
 "cells": [
  {
   "cell_type": "markdown",
   "metadata": {},
   "source": [
    "notebook for running through examples of tensorflow, including building my own RNN, LSTM RNN, attention head, and CNN\n",
    "purpose is to get a handle on the fundamental building blocks, understand back-propogation methodologies"
   ]
  },
  {
   "cell_type": "markdown",
   "metadata": {},
   "source": []
  }
 ],
 "metadata": {
  "language_info": {
   "name": "python"
  }
 },
 "nbformat": 4,
 "nbformat_minor": 2
}
